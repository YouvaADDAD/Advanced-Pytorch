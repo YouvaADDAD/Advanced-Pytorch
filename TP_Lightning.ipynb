{
 "cells": [
  {
   "cell_type": "markdown",
   "id": "16e1a15c-d51b-4b51-ad1d-112e66e72272",
   "metadata": {},
   "source": [
    "Introduction à Pytorch Lightning: Gestion des données et apprentissage\n",
    "======"
   ]
  },
  {
   "cell_type": "markdown",
   "id": "e5047989-47b2-4b2a-aa79-0ddd12a2a235",
   "metadata": {},
   "source": [
    "L'objectif de ce TP est de se familiariser  avec la librairie PyTorch Lightning en réalisant un réseau de neurones capable de classifier des vêtements. Il sera à réaliser en python 3. Les librairies utilisées sont installées sur les machines de l'université, vous pouvez néanmoins les installer sur vos propres machines à l'aide de l'utilitaire `pip` présent par défaut avec python.\n",
    "\t\n",
    "N'hésitez pas à regarder régulièrement la documentation de ces librairies, des exemples d'utilisation accompagnent généralement l'explication de chaque fonction.\n",
    "\n",
    "Langage utilisé:\n",
    "- Python 3: https://docs.python.org/3/\n",
    "\n",
    "Librairie d'affichage de données:\n",
    "- Matplotilb: https://matplotlib.org/contents.html\n",
    "\n",
    "Librairie de Deep Learning\n",
    "- PyTorch: https://pytorch.org/docs/stable/index.html\n",
    "- PyTorch Lightning: https://pytorch-lightning.readthedocs.io/en/stable/\n",
    "- Torchvision: https://pytorch.org/vision/stable/index.html\n",
    "- Torchmetrics: https://torchmetrics.readthedocs.io/en/stable/\n"
   ]
  },
  {
   "cell_type": "code",
   "execution_count": 1,
   "id": "23d0a056-e0ca-4027-9763-23ec57499de9",
   "metadata": {
    "tags": []
   },
   "outputs": [],
   "source": [
    "# Import torch\n",
    "import torch\n",
    "import torch.nn.functional as F\n",
    "from torch import nn\n",
    "from torch import Tensor\n",
    "from torch.utils.data import DataLoader\n",
    "from torch.utils.data import TensorDataset\n",
    "\n",
    "\n",
    "\n",
    "# Import lightning\n",
    "import lightning as L\n",
    "from lightning import Trainer\n",
    "from lightning.pytorch.utilities.types import STEP_OUTPUT\n",
    "\n",
    "# import torchvision\n",
    "import torchvision\n",
    "from torchvision.datasets import FashionMNIST\n",
    "from torch.utils.data.dataset import random_split\n",
    "from torchvision import transforms\n",
    "from torchvision.models import resnet18, ResNet18_Weights\n",
    "\n",
    "# import torchmetrics\n",
    "from torchmetrics import Accuracy\n",
    "\n",
    "# Autres import \n",
    "import timm \n",
    "\n",
    "from typing import Dict, Iterator, List, Optional, Tuple, TypeVar\n",
    "\n",
    "import matplotlib.pyplot as plt\n",
    "%matplotlib inline"
   ]
  },
  {
   "cell_type": "code",
   "execution_count": 2,
   "id": "99323200-7961-4a59-9ebb-8bcc782343a3",
   "metadata": {
    "tags": []
   },
   "outputs": [
    {
     "data": {
      "text/plain": [
       "'2.2.2'"
      ]
     },
     "execution_count": 2,
     "metadata": {},
     "output_type": "execute_result"
    }
   ],
   "source": [
    "L.__version__"
   ]
  },
  {
   "cell_type": "markdown",
   "id": "d8a488e6-7e09-4102-aff5-4a7e5dea4434",
   "metadata": {},
   "source": [
    "# Quelques rappels"
   ]
  },
  {
   "cell_type": "markdown",
   "id": "12715470-0c7c-4962-97cf-0b35a33e4410",
   "metadata": {},
   "source": [
    "1 - Introduction au notebook jupyter\n",
    "----------"
   ]
  },
  {
   "cell_type": "markdown",
   "id": "acc63bfa-d215-4cf1-8d20-cb095ce96cd3",
   "metadata": {},
   "source": [
    "Exécutez la ligne suivante en vous plaçant dans la cellule et en appuyant sur *Ctrl+Entrée*."
   ]
  },
  {
   "cell_type": "code",
   "execution_count": 3,
   "id": "15910112-4c49-4035-93b1-6268c38542c4",
   "metadata": {},
   "outputs": [
    {
     "name": "stdout",
     "output_type": "stream",
     "text": [
      "1\n"
     ]
    }
   ],
   "source": [
    "a=1\n",
    "print(a)"
   ]
  },
  {
   "cell_type": "markdown",
   "id": "daba934e-5299-4ac9-89a3-b7621b6694ff",
   "metadata": {},
   "source": [
    "Lancez la ligne suivante plusieurs fois. "
   ]
  },
  {
   "cell_type": "code",
   "execution_count": 4,
   "id": "8150435b-e102-49a2-b237-925bae1c688c",
   "metadata": {},
   "outputs": [
    {
     "name": "stdout",
     "output_type": "stream",
     "text": [
      "2\n"
     ]
    }
   ],
   "source": [
    "a += 1\n",
    "print(a)"
   ]
  },
  {
   "cell_type": "markdown",
   "id": "a6113e10-6754-4b19-8996-d332b8c5b720",
   "metadata": {},
   "source": [
    "Relancez le premier bloc définissant la variable `a` puis lancez le bloc suivant (remarquez bien les valeurs après In [\\*] ):"
   ]
  },
  {
   "cell_type": "code",
   "execution_count": 5,
   "id": "300f4888-d6c0-443d-bf92-9cb77ff02a7e",
   "metadata": {},
   "outputs": [
    {
     "name": "stdout",
     "output_type": "stream",
     "text": [
      "2\n"
     ]
    }
   ],
   "source": [
    "print(a)"
   ]
  },
  {
   "cell_type": "markdown",
   "id": "6c6fd19f-a26e-4a5f-be0f-6919d90aeee9",
   "metadata": {},
   "source": [
    "Vous pouvez utiliser l'aide à la complétion avec tab. Testez avec la fonction torch.randn."
   ]
  },
  {
   "cell_type": "code",
   "execution_count": 6,
   "id": "35939c25-80f3-4ffa-8318-0cbcf1edad57",
   "metadata": {},
   "outputs": [
    {
     "data": {
      "text/plain": [
       "tensor([-0.3305,  1.2682,  0.5798])"
      ]
     },
     "execution_count": 6,
     "metadata": {},
     "output_type": "execute_result"
    }
   ],
   "source": [
    "torch.randn(3)"
   ]
  },
  {
   "cell_type": "markdown",
   "id": "51b9e5a5-4b84-450b-abaa-7e459de70184",
   "metadata": {},
   "source": [
    "Vous pouvez accéder à la documentation de la fonction avec *Shit+tab*. Testez avec la fonction torch.randn."
   ]
  },
  {
   "cell_type": "code",
   "execution_count": 7,
   "id": "a5e24b86-0ab5-4d60-9340-529efa47dafd",
   "metadata": {},
   "outputs": [
    {
     "data": {
      "text/plain": [
       "tensor([[ 0.2438,  0.3133],\n",
       "        [-0.4955, -0.8113],\n",
       "        [-0.8340, -1.1096],\n",
       "        [-0.8550, -0.1634]])"
      ]
     },
     "execution_count": 7,
     "metadata": {},
     "output_type": "execute_result"
    }
   ],
   "source": [
    "torch.randn(4, 2)"
   ]
  },
  {
   "cell_type": "markdown",
   "id": "5c3d6f0d-59db-4dd1-b45e-5183442f4ad4",
   "metadata": {},
   "source": [
    "2 - Visualisation des données (Matplotlib)<a id=\"title1.3\"></a> \n",
    "-----"
   ]
  },
  {
   "cell_type": "markdown",
   "id": "764bdaed-0cc5-4857-8f50-baaec01d969f",
   "metadata": {},
   "source": [
    "`Matplotlib` permet de construire une figure à visualiser. La création d'une figure ce fait à l'aide de l'instruction `plt.figure`. Toutes les instructions que l'on fait ensuite agissent sur la figure courante en mémoire mais ne sont pas directement visibles. Afin de rendre effectivement visible la figure finale, on utilise l'instruction `plt.show`. Cette instruction est bloquante en python standard. \n",
    "Testez le code suivant affichant un `sinus` et un `cosinus`."
   ]
  },
  {
   "cell_type": "code",
   "execution_count": 8,
   "id": "68152330-275a-4ec1-9e47-6b864176a488",
   "metadata": {},
   "outputs": [
    {
     "data": {
      "image/png": "[encoded data removed]",
      "text/plain": [
       "<Figure size 640x480 with 1 Axes>"
      ]
     },
     "metadata": {},
     "output_type": "display_data"
    }
   ],
   "source": [
    "x = torch.linspace(0,2*torch.pi,100) # création de 100 points entre 0 et 2pi\n",
    "plt.figure() # Création d'une figure\n",
    "plt.plot(x,torch.sin(x)) # Ajout du tracé d'un sinus composé de 100 points reliés par des droites entre 0 et 2pi\n",
    "plt.plot(x,torch.cos(x)) # Ajout du tracé d'un cosinus composé de 100 points reliés par des droites entre 0 et 2pi\n",
    "plt.show() # Affichage de la figure créée."
   ]
  },
  {
   "cell_type": "markdown",
   "id": "d188c634-c765-4ef7-a0c9-1634aed05be0",
   "metadata": {},
   "source": [
    "La fonction `plt.imshow` permet d'afficher un tableau comme une image. Les valeurs doivent être soit entières entre 0 et 255 soit flottantes entre 0. et 1. ."
   ]
  },
  {
   "cell_type": "code",
   "execution_count": 9,
   "id": "9908d161-4ab6-474f-a541-d06050f6c55c",
   "metadata": {},
   "outputs": [
    {
     "data": {
      "image/png": "[encoded data removed]",
      "text/plain": [
       "<Figure size 640x480 with 1 Axes>"
      ]
     },
     "metadata": {},
     "output_type": "display_data"
    }
   ],
   "source": [
    "n=int(1e3)\n",
    "x = torch.linspace(0,1,n)\n",
    "degradee = torch.tile(x[:,None],(n,))\n",
    "im = torch.stack((degradee,degradee.T,1-degradee),axis=2)\n",
    "\n",
    "plt.figure()\n",
    "plt.imshow(im)\n",
    "plt.show()"
   ]
  },
  {
   "cell_type": "markdown",
   "id": "1a80614e-5886-49eb-ab9e-a5006f071522",
   "metadata": {},
   "source": [
    "Si le tableau est une matrice, l'image sera affichée en fausse couleurs correspondant à la carte de couleur paramétrée. Pour avoir une image en noir et blanc, il faudra préciser `cmap='gray'`."
   ]
  },
  {
   "cell_type": "code",
   "execution_count": 10,
   "id": "31116892-fcf0-4723-888d-ba61a90a2823",
   "metadata": {
    "scrolled": true
   },
   "outputs": [
    {
     "data": {
      "image/png": "[encoded data removed]",
      "text/plain": [
       "<Figure size 640x480 with 2 Axes>"
      ]
     },
     "metadata": {},
     "output_type": "display_data"
    },
    {
     "data": {
      "image/png": "[encoded data removed]",
      "text/plain": [
       "<Figure size 640x480 with 2 Axes>"
      ]
     },
     "metadata": {},
     "output_type": "display_data"
    }
   ],
   "source": [
    "plt.figure()\n",
    "plt.imshow(degradee)\n",
    "plt.colorbar()\n",
    "\n",
    "plt.figure()\n",
    "plt.imshow(degradee,cmap='gray')\n",
    "plt.colorbar()\n",
    "\n",
    "plt.show()\n"
   ]
  },
  {
   "cell_type": "markdown",
   "id": "97a3b3b2-801a-4e60-a92e-731aa838af83",
   "metadata": {},
   "source": [
    "Il est également possible d'afficher une image en la convertissant en image PIL avec `torchvision.transforms.functional.to_pil_image` puis en utilisant la méthode `display` de jupyter."
   ]
  },
  {
   "cell_type": "code",
   "execution_count": 11,
   "id": "37f41483-11a7-4a79-982a-5ca6dc453964",
   "metadata": {},
   "outputs": [
    {
     "data": {
      "image/jpeg": "[encoded data removed]",
      "image/png": "[encoded data removed]",
      "text/plain": [
       "<PIL.Image.Image image mode=L size=1000x1000>"
      ]
     },
     "metadata": {},
     "output_type": "display_data"
    }
   ],
   "source": [
    "display(torchvision.transforms.functional.to_pil_image(degradee))"
   ]
  },
  {
   "cell_type": "markdown",
   "id": "626bfe8c-2eed-427b-97b0-726c47d04282",
   "metadata": {},
   "source": [
    "# Sujet du TP"
   ]
  },
  {
   "cell_type": "markdown",
   "id": "0fe2a7fa-67b6-4503-9823-2604f597f96e",
   "metadata": {},
   "source": [
    "Ce TP se décompose en 4 étapes qui seront détaillées dans les parties suivantes:\n",
    "1. Préparation de la base de données étudiée et des batches en créant la classe `MyDataModule` qui hérite de `L.LightningDataModule`.\n",
    "2. Instansation d'un modèle de réseau de neurones et implémentation des méthodes nécessaires pour l’entraîner en créant la classe `MyModel` qui hérite de `L.LightningModule`.\n",
    "3. Entraîner le modèle de l'étape 2 à l’aide des données préparées dans l’étape 1.\n",
    "4. Evaluation du modèle sur des données de test."
   ]
  },
  {
   "cell_type": "markdown",
   "id": "9c0e49cc-9812-4de2-a629-dc6096beeb02",
   "metadata": {},
   "source": [
    "# 1- Création d'un LigthningDataModule"
   ]
  },
  {
   "cell_type": "markdown",
   "id": "1229a759-24fe-4298-9fd2-5c24b4441c40",
   "metadata": {},
   "source": [
    "Nous allons dans ce TP travailler sur une sous-partie du dataset [Fashion-Mnist](https://github.com/zalandoresearch/fashion-mnist) composé de petite imagenette de vêtements. \n",
    "\n",
    "Afin de gérer ce dataset, nous allons implémenter une classe `MyDataModule` héritant de [L.LightningDataModule](https://lightning.ai/docs/pytorch/stable/data/datamodule.html).\n",
    "\n",
    "Nous allons créer cette classe progressivement dans la suite du TP. Vous reviendriez modifier le bloc suivant au cours des différentes étapes décrites par la suite. \n",
    "\n",
    "Commencez par créer la classe `MyDataModule` héritant de `L.LightningDataModule`. Vous déclarez un constructeur prenant et enregistrant les paramètres suivants: \n",
    "- un nom de dossier où est sauvegardé la base de donnée (./data par défaut),\n",
    "- la taille des batches (64 images par défaut),\n",
    "- la proportion du trainset à utiliser pour la validation (10\\% par défaut). "
   ]
  },
  {
   "cell_type": "code",
   "execution_count": 109,
   "id": "96fb9ac9-4e82-4a82-9633-5e7c1d8f0b93",
   "metadata": {
    "tags": []
   },
   "outputs": [],
   "source": [
    "from torch.utils.data import Subset\n",
    "\n",
    "class MyDataModule(L.LightningDataModule):\n",
    "    def __init__(self,\n",
    "    data_dir:str='./data',\n",
    "    batch_size:int=64,\n",
    "    seed:int=42,\n",
    "    size_val:float=0.1\n",
    "    ):\n",
    "        super().__init__()\n",
    "        self.data_dir = data_dir\n",
    "        self.batch_size = batch_size\n",
    "        self.seed = seed\n",
    "        self.size_val = size_val\n",
    "\n",
    "    def prepare_data(self):\n",
    "        ...\n",
    "\n",
    "    def setup(self, stage: Optional[str] = None) -> None:\n",
    "        ...\n",
    "\n",
    "    def train_dataloader(self) -> DataLoader:\n",
    "        ...\n",
    "\n",
    "    def val_dataloader(self) -> DataLoader:\n",
    "        ...\n",
    "\n",
    "    def test_dataloader(self) -> DataLoader:\n",
    "        ...\n",
    "\n",
    "    def predict_dataloader(self) -> DataLoader:\n",
    "        ...\n",
    "    \n"
   ]
  },
  {
   "cell_type": "code",
   "execution_count": 110,
   "id": "f9bf11cb-f49c-443b-a2a2-82d5eb0642d0",
   "metadata": {},
   "outputs": [],
   "source": [
    "# Relancez ce code à chaque modification du bloc précédant\n",
    "datamodule = MyDataModule()"
   ]
  },
  {
   "cell_type": "markdown",
   "id": "80645afa-56c3-4a54-8af7-de93959f275d",
   "metadata": {},
   "source": [
    "Ajoutez une méthode `prepare_data`. Cette méthode permet la préparation des données. Dans notre cas, elle téléchargera la base de données si nécessaire et la placera dans le dossier indiqué dans l'attribut `data_dir` de la classe. Vous utiliserez pour réaliser cette fonction la classe [FashionMNIST](https://pytorch.org/vision/stable/generated/torchvision.datasets.FashionMNIST.html) de `torchvision` avec l'attribut `download`à *True*.\n",
    "\n",
    "Vérifiez que l'appel de la méthode permet bien le téléchargement de la base de donnée dans le dossier prévu à cet effet."
   ]
  },
  {
   "cell_type": "code",
   "execution_count": 111,
   "id": "c6447645-1e7e-4b86-aa0f-5cc25aa9ae8f",
   "metadata": {
    "tags": []
   },
   "outputs": [],
   "source": [
    "raise NotImplementedError"
   ]
  },
  {
   "cell_type": "markdown",
   "id": "9db31af2-29ec-42ed-a380-b88d9ce714ac",
   "metadata": {},
   "source": [
    "Ajoutez une méthode `setup`. Cette méthode permet de définir des [Datasets Pytorch](https://pytorch.org/tutorials/beginner/basics/data_tutorial.html). Pour cela, vous utiliserez à nouveau la classe `FashionMnist`, mais avec l'attribut `download` à *false*. \n",
    "\n",
    "Définissez \n",
    "- `self.data_train`: correspondant aux images d'apprentissage du dataset FashionMnist\n",
    "- `self.data_test`: correspondant aux images de test du dataset FashionMnist\n",
    "\n",
    "Appelez la méthode `setup` sans argument. Cette méthode ne retourne rien, mais vous pouvez vérifier ensuite la taille des datasets stocker dans les attributs dédiés."
   ]
  },
  {
   "cell_type": "code",
   "execution_count": 1,
   "id": "f24fdcb7-0e97-4944-841e-10b33d45a59c",
   "metadata": {},
   "outputs": [
    {
     "ename": "NotImplementedError",
     "evalue": "",
     "output_type": "error",
     "traceback": [
      "\u001b[0;31m---------------------------------------------------------------------------\u001b[0m",
      "\u001b[0;31mNotImplementedError\u001b[0m                       Traceback (most recent call last)",
      "Cell \u001b[0;32mIn[1], line 1\u001b[0m\n\u001b[0;32m----> 1\u001b[0m \u001b[39mraise\u001b[39;00m \u001b[39mNotImplementedError\u001b[39;00m\n",
      "\u001b[0;31mNotImplementedError\u001b[0m: "
     ]
    }
   ],
   "source": [
    "raise NotImplementedError"
   ]
  },
  {
   "cell_type": "markdown",
   "id": "34e36278-a7de-4fdd-98bb-4a3c86ef06cd",
   "metadata": {},
   "source": [
    "En utilisant la fonction `display`, affichez la première image de `train` et de `test`. Attention, `data_train` et `data_test` contiennent les images et les labels."
   ]
  },
  {
   "cell_type": "code",
   "execution_count": 2,
   "id": "b71846b9-c966-489f-a488-3e52750da851",
   "metadata": {},
   "outputs": [
    {
     "ename": "NotImplementedError",
     "evalue": "",
     "output_type": "error",
     "traceback": [
      "\u001b[0;31m---------------------------------------------------------------------------\u001b[0m",
      "\u001b[0;31mNotImplementedError\u001b[0m                       Traceback (most recent call last)",
      "Cell \u001b[0;32mIn[2], line 1\u001b[0m\n\u001b[0;32m----> 1\u001b[0m \u001b[39mraise\u001b[39;00m \u001b[39mNotImplementedError\u001b[39;00m\n",
      "\u001b[0;31mNotImplementedError\u001b[0m: "
     ]
    }
   ],
   "source": [
    "raise NotImplementedError"
   ]
  },
  {
   "cell_type": "markdown",
   "id": "f03ce266-7381-4119-b0c6-e4a83c53d840",
   "metadata": {},
   "source": [
    "Notre dataset retourne actuellement des images au format PIL qui ne peuvent pas être exploité par un réseau de neurones. En intégrant la transformation `torchvision.transforms.ToTensor()` dans le constructeur de `FashionMnist`, convertissez les images en tableau torch. Si vous relancez, l'affichage de la question précédente vous devez avoir des tableaux de valeurs et plus des images."
   ]
  },
  {
   "cell_type": "code",
   "execution_count": 3,
   "id": "f1c0fcb2-b589-4b44-9add-f036fcfe373e",
   "metadata": {},
   "outputs": [
    {
     "ename": "NotImplementedError",
     "evalue": "",
     "output_type": "error",
     "traceback": [
      "\u001b[0;31m---------------------------------------------------------------------------\u001b[0m",
      "\u001b[0;31mNotImplementedError\u001b[0m                       Traceback (most recent call last)",
      "Cell \u001b[0;32mIn[3], line 1\u001b[0m\n\u001b[0;32m----> 1\u001b[0m \u001b[39mraise\u001b[39;00m \u001b[39mNotImplementedError\u001b[39;00m\n",
      "\u001b[0;31mNotImplementedError\u001b[0m: "
     ]
    }
   ],
   "source": [
    "raise NotImplementedError"
   ]
  },
  {
   "cell_type": "markdown",
   "id": "45f318ed-1ff3-405d-9240-60b19b16cf11",
   "metadata": {},
   "source": [
    "Afin d'accélérer les calculs, nous allons restreinte la base aux deux premières classes (T-Shirt et pantalon). En utlisant `torch.utils.data.Subset` limitez `data_train` et `data_test` aux exemples dont le label est 0 ou 1. Pour faire cette question, vous pouvez utliser l'attribut `targets` des objets de la classe FashionMnist et la méthode `torch.where` ou `torch.argwhere`. Vérifiez que le nombre d'exemple a bien diminué. "
   ]
  },
  {
   "cell_type": "code",
   "execution_count": 4,
   "id": "438d4f6b-7c7a-47cd-9975-152123eaa12b",
   "metadata": {},
   "outputs": [
    {
     "ename": "NotImplementedError",
     "evalue": "",
     "output_type": "error",
     "traceback": [
      "\u001b[0;31m---------------------------------------------------------------------------\u001b[0m",
      "\u001b[0;31mNotImplementedError\u001b[0m                       Traceback (most recent call last)",
      "Cell \u001b[0;32mIn[4], line 1\u001b[0m\n\u001b[0;32m----> 1\u001b[0m \u001b[39mraise\u001b[39;00m \u001b[39mNotImplementedError\u001b[39;00m\n",
      "\u001b[0;31mNotImplementedError\u001b[0m: "
     ]
    }
   ],
   "source": [
    "raise NotImplementedError"
   ]
  },
  {
   "cell_type": "markdown",
   "id": "cd702eea-b6e5-4fae-ab4a-44ad406a724c",
   "metadata": {},
   "source": [
    "Nous allons maintenant découper l'ensemble d'apprentissage en deux ensembles `data_train` et `data_val`. On utilisera la proportion renseigné dans le constructeur pour faire la répartition à l'aide de la fonction [random_split](https://pytorch.org/docs/stable/data.html). Vérifiez que les dimensions sont correcte."
   ]
  },
  {
   "cell_type": "code",
   "execution_count": 5,
   "id": "c8b0e388-8859-49a0-ab51-12390da40bf1",
   "metadata": {
    "tags": []
   },
   "outputs": [
    {
     "ename": "NotImplementedError",
     "evalue": "",
     "output_type": "error",
     "traceback": [
      "\u001b[0;31m---------------------------------------------------------------------------\u001b[0m",
      "\u001b[0;31mNotImplementedError\u001b[0m                       Traceback (most recent call last)",
      "Cell \u001b[0;32mIn[5], line 1\u001b[0m\n\u001b[0;32m----> 1\u001b[0m \u001b[39mraise\u001b[39;00m \u001b[39mNotImplementedError\u001b[39;00m\n",
      "\u001b[0;31mNotImplementedError\u001b[0m: "
     ]
    }
   ],
   "source": [
    "raise NotImplementedError"
   ]
  },
  {
   "cell_type": "markdown",
   "id": "5f30e82e-d4a5-4088-8d99-c5d49bc9adae",
   "metadata": {},
   "source": [
    "Écrivez la méthode `train_dataloader`. Cette méthode retourne un dataloader pytorch sur les données de `train`. Vous pourrez utiliser la classe [DataLoader](https://pytorch.org/docs/stable/data.html?highlight=dataloader#torch.utils.data.DataLoader) avec les arguments appropriés. \n",
    "\n",
    "Vérifiez le bon fonctionnement de votre méthode en affichant toutes les images du premier batch avec `display`. Vous pourrez utiliser les méthodes `iter` et `next` pour récupérer uniquement le premier batch et la méthode `torchvision.utils.make_grid` pour convertir le batch en une grille d'images. \n"
   ]
  },
  {
   "cell_type": "code",
   "execution_count": 6,
   "id": "ef24384e-a26b-41e0-9260-842bd89cb6f7",
   "metadata": {},
   "outputs": [
    {
     "ename": "NotImplementedError",
     "evalue": "",
     "output_type": "error",
     "traceback": [
      "\u001b[0;31m---------------------------------------------------------------------------\u001b[0m",
      "\u001b[0;31mNotImplementedError\u001b[0m                       Traceback (most recent call last)",
      "Cell \u001b[0;32mIn[6], line 1\u001b[0m\n\u001b[0;32m----> 1\u001b[0m \u001b[39mraise\u001b[39;00m \u001b[39mNotImplementedError\u001b[39;00m\n",
      "\u001b[0;31mNotImplementedError\u001b[0m: "
     ]
    }
   ],
   "source": [
    "raise NotImplementedError\n"
   ]
  },
  {
   "cell_type": "markdown",
   "id": "2c114144-e57c-4a46-856c-007c5fab1cf3",
   "metadata": {
    "tags": []
   },
   "source": [
    "Faites de même pour les méthodes:\n",
    "- `val_dataloader` : renvoye un `DataLoader` sur les données de validation,\n",
    "- `test_dataloader` : renvoye un `DataLoader` sur les données de test,"
   ]
  },
  {
   "cell_type": "code",
   "execution_count": 7,
   "id": "91056a28-3b2f-45ab-9b16-01a85690ffa1",
   "metadata": {
    "tags": []
   },
   "outputs": [
    {
     "ename": "NotImplementedError",
     "evalue": "",
     "output_type": "error",
     "traceback": [
      "\u001b[0;31m---------------------------------------------------------------------------\u001b[0m",
      "\u001b[0;31mNotImplementedError\u001b[0m                       Traceback (most recent call last)",
      "Cell \u001b[0;32mIn[7], line 1\u001b[0m\n\u001b[0;32m----> 1\u001b[0m \u001b[39mraise\u001b[39;00m \u001b[39mNotImplementedError\u001b[39;00m\n",
      "\u001b[0;31mNotImplementedError\u001b[0m: "
     ]
    }
   ],
   "source": [
    "raise NotImplementedError"
   ]
  },
  {
   "cell_type": "markdown",
   "id": "666dbe72-cb81-431a-a37d-43883987601e",
   "metadata": {},
   "source": [
    "# 2- Mise en place du réseau de neurone"
   ]
  },
  {
   "cell_type": "markdown",
   "id": "73a0be98-7c98-4187-ade1-82804888667c",
   "metadata": {},
   "source": [
    "Nous allons dans cette partie construire le modèle en utilisant le même principe que la partie précédente. \n",
    "\n",
    "Commencez par créer la classe `MyModel` héritant de [L.LightningModule](https://lightning.ai/docs/pytorch/stable/common/lightning_module.html). Vous définirez un constructeur prenant les arguments suivant: \n",
    "- lr: le *learning rate*,\n",
    "- weight_decay: le poids de la régularisation,\n",
    "- num_class: le nombre de classe (ici 2),\n",
    "- *args : d'autres arguments non nommés,\n",
    "- **kwargs: : d'autres arguments nommés. \n",
    "\n",
    "Dans ce constructeur, vous effectuerez les étapes suivantes: \n",
    "- sauvegarde des paramètres d'entrées en utilisant `save_hyperparameters`.\n",
    "- définition d'un réseau de type `resnet18` que vous prendrerez pré-entrainé pour une tâche de classification de type ImageNet à partir de la librairie `timm`. Vous utiliserez `timm.create_model` avec `pretrained`, `in_chans` et `num_classes` correctement rempli.\n",
    "- Définissez une fonction de coût de type `nn.CrossEntropyLoss` pour train, val et test. \n",
    "- Définissez une métrique d'évaluation de type `Accuracy` pour val et test. "
   ]
  },
  {
   "cell_type": "code",
   "execution_count": 120,
   "id": "4e02a5e7-89cd-4eab-94ca-d07db1b4619f",
   "metadata": {
    "tags": []
   },
   "outputs": [],
   "source": [
    "class MyModel(L.LightningModule):\n",
    "    def __init__(self,\n",
    "        lr:float=0.1,\n",
    "        weight_decay:float=1e-4,\n",
    "        num_class:int=2,\n",
    "        *args,\n",
    "        **kwargs\n",
    "    ):\n",
    "        super().__init__()\n",
    "        self.save_hyperparameters()\n",
    "        self.model = timm.create_model(\n",
    "            'resnet18',\n",
    "            pretrained=True,\n",
    "            in_chans=1,\n",
    "            num_classes=self.hparams.num_class\n",
    "        )\n",
    "        self.loss_train = nn.CrossEntropyLoss()\n",
    "        self.loss_valid = nn.CrossEntropyLoss()\n",
    "        self.loss_test = nn.CrossEntropyLoss()\n",
    "\n",
    "        self.valid_acc = Accuracy(task=\"multiclass\", num_classes=self.hparams.num_class)\n",
    "        self.test_acc = Accuracy(task=\"multiclass\", num_classes=self.hparams.num_class)\n",
    "        \n",
    "    def forward(self, x):\n",
    "        ...\n",
    "\n",
    "    def training_step(self, batch, batch_idx):\n",
    "        ...\n",
    "\n",
    "    def validation_step(self, batch, batch_idx):\n",
    "        ...\n",
    "\n",
    "    \n",
    "    def test_step(self, batch, batch_idx):\n",
    "        ...\n",
    "\n",
    "    def predict_step(self, batch, batch_idx): \n",
    "        ...\n",
    "\n",
    "        \n",
    "    def configure_optimizers(self):\n",
    "        ..."
   ]
  },
  {
   "cell_type": "code",
   "execution_count": 121,
   "id": "005c55f2-3b60-4daa-9ddd-468596db3687",
   "metadata": {
    "tags": []
   },
   "outputs": [],
   "source": [
    "# Création d'un objet MyModel. A relancer à chaque modification de MyModel.\n",
    "model = MyModel()"
   ]
  },
  {
   "cell_type": "markdown",
   "id": "a31dacd6-c070-48eb-8f80-929486d430a1",
   "metadata": {},
   "source": [
    "Définissez une méthode `forward` qui calcule la sortie du réseau en fonction de son entrée. Testez votre méthode avec un tableau aléatoire de taille $(8,1,28,28)$. Vous pouvez utiliser la fonction [torch.rand](https://pytorch.org/docs/stable/generated/torch.rand.html)."
   ]
  },
  {
   "cell_type": "code",
   "execution_count": 122,
   "id": "706dfb97-7a73-490b-aabb-72afb326572c",
   "metadata": {},
   "outputs": [
    {
     "data": {
      "text/plain": [
       "torch.Size([8, 2])"
      ]
     },
     "metadata": {},
     "output_type": "display_data"
    }
   ],
   "source": [
    "raise NotImplementedError"
   ]
  },
  {
   "cell_type": "markdown",
   "id": "0b244cfa-78dd-46cc-be0e-8e5e8d5be083",
   "metadata": {},
   "source": [
    "Définissez la méthode `training_step`. Cette méthode calcul la sortie du réseau pour un batch donné puis évalue la fonction de coût (qu'elle retournera). Vous effectuerez également les logs de la fonction de coût.  \n",
    "\n",
    "Récupérez le premier batch avec le `datamodule` de la première partie et testez votre fonction. Le deuxième paramètre sera mis à 0 pour ce test.\n",
    "\n",
    "Vérifiez que votre fonction retourne bien une valeur pour la loss."
   ]
  },
  {
   "cell_type": "code",
   "execution_count": 123,
   "id": "54b9b664-5e47-4917-9405-b848c33f2326",
   "metadata": {},
   "outputs": [
    {
     "data": {
      "text/plain": [
       "tensor(0.9593, grad_fn=<NllLossBackward0>)"
      ]
     },
     "execution_count": 123,
     "metadata": {},
     "output_type": "execute_result"
    }
   ],
   "source": [
    "raise NotImplementedError"
   ]
  },
  {
   "cell_type": "markdown",
   "id": "0b0b1712-1691-4933-9ffe-998668eebaeb",
   "metadata": {},
   "source": [
    "Définissez la méthode `validation_step` effectuant le traitement d'un batch sur les données de validation. Cette méthode est très similaire à la précédente hormis le fait qu'elle ne retourne rien et log en plus les performances en *accuracy*.\n",
    "\n",
    "Testez la méthode en la lançant. Il ne devrait rien s'afficher, mais vous ne devez pas avoir d'erreur. "
   ]
  },
  {
   "cell_type": "code",
   "execution_count": 124,
   "id": "6554601d-bd7e-4e07-8425-fa18efc2c1c0",
   "metadata": {
    "tags": []
   },
   "outputs": [],
   "source": [
    "raise NotImplementedError"
   ]
  },
  {
   "cell_type": "markdown",
   "id": "a6fea409-6aa0-4226-9bef-b43a7a4eb398",
   "metadata": {
    "tags": []
   },
   "source": [
    "Définissez de la même manière que précédemment la méthode `test_step`."
   ]
  },
  {
   "cell_type": "code",
   "execution_count": 125,
   "id": "ccc07210-b804-4b39-8826-ccf202065fab",
   "metadata": {
    "tags": []
   },
   "outputs": [],
   "source": [
    "raise NotImplementedError"
   ]
  },
  {
   "cell_type": "markdown",
   "id": "dc8ca0b2-87eb-4953-9755-9244bf88050b",
   "metadata": {},
   "source": [
    "Définissez la méthode `configure_optimizers` qui retourne le ou les optimiseurs choisis pour entrainer le réseau. Nous utiliserons ici un optimiser d'[Adam](https://pytorch.org/docs/stable/generated/torch.optim.Adam.html).\n",
    "\n",
    "Lancez votre méthode pour en vérifier le bon fonctionnement."
   ]
  },
  {
   "cell_type": "code",
   "execution_count": 126,
   "id": "02a8868e-0b4f-4e16-bd41-7ac01d98574d",
   "metadata": {},
   "outputs": [
    {
     "data": {
      "text/plain": [
       "Adam (\n",
       "Parameter Group 0\n",
       "    amsgrad: False\n",
       "    betas: (0.9, 0.999)\n",
       "    capturable: False\n",
       "    differentiable: False\n",
       "    eps: 1e-08\n",
       "    foreach: None\n",
       "    fused: None\n",
       "    lr: 0.1\n",
       "    maximize: False\n",
       "    weight_decay: 0.0001\n",
       ")"
      ]
     },
     "execution_count": 126,
     "metadata": {},
     "output_type": "execute_result"
    }
   ],
   "source": [
    "raise NotImplementedError"
   ]
  },
  {
   "cell_type": "markdown",
   "id": "2a868434-011e-4f65-b598-084e6d03d14d",
   "metadata": {},
   "source": [
    "# 3- Entraînement du modèle "
   ]
  },
  {
   "cell_type": "markdown",
   "id": "bf6a5b2c-d045-4428-982a-33736452dc24",
   "metadata": {},
   "source": [
    "Nous avons précédemment défini tous les éléments important pour apprendre notre réseau. \n",
    "En utilisant un objet de type [Trainer](https://lightning.ai/docs/pytorch/stable/common/trainer.html), faites un apprentissage sur 2 époques (vous pouvez faire plus d'époque pour de meilleurs résultats)."
   ]
  },
  {
   "cell_type": "code",
   "execution_count": 8,
   "id": "a0ca5433-5175-4de2-8de5-5a8d430bc848",
   "metadata": {},
   "outputs": [
    {
     "ename": "NotImplementedError",
     "evalue": "",
     "output_type": "error",
     "traceback": [
      "\u001b[0;31m---------------------------------------------------------------------------\u001b[0m",
      "\u001b[0;31mNotImplementedError\u001b[0m                       Traceback (most recent call last)",
      "Cell \u001b[0;32mIn[8], line 1\u001b[0m\n\u001b[0;32m----> 1\u001b[0m \u001b[39mraise\u001b[39;00m \u001b[39mNotImplementedError\u001b[39;00m\n",
      "\u001b[0;31mNotImplementedError\u001b[0m: "
     ]
    }
   ],
   "source": [
    "raise NotImplementedError"
   ]
  },
  {
   "cell_type": "markdown",
   "id": "37d7b7e6-d0ce-4e75-bb6a-8f34a0973bb6",
   "metadata": {},
   "source": [
    "# 4- Evaluation du modèle appris"
   ]
  },
  {
   "cell_type": "markdown",
   "id": "bede56c2-2582-4cb2-af92-65bf2fe0a0da",
   "metadata": {},
   "source": [
    "En utilisant la méthode `test` du `Trainer` précédent, obtenez les performances sur la base de test."
   ]
  },
  {
   "cell_type": "code",
   "execution_count": 9,
   "id": "961977ed-4a45-49ea-98ce-1bf064abb85b",
   "metadata": {},
   "outputs": [
    {
     "ename": "NotImplementedError",
     "evalue": "",
     "output_type": "error",
     "traceback": [
      "\u001b[0;31m---------------------------------------------------------------------------\u001b[0m",
      "\u001b[0;31mNotImplementedError\u001b[0m                       Traceback (most recent call last)",
      "Cell \u001b[0;32mIn[9], line 1\u001b[0m\n\u001b[0;32m----> 1\u001b[0m \u001b[39mraise\u001b[39;00m \u001b[39mNotImplementedError\u001b[39;00m\n",
      "\u001b[0;31mNotImplementedError\u001b[0m: "
     ]
    }
   ],
   "source": [
    "raise NotImplementedError"
   ]
  },
  {
   "cell_type": "markdown",
   "id": "9a805739-48cb-4093-acfe-9f53e7b106d5",
   "metadata": {},
   "source": [
    "Modifiez `MyDataModule` et `MyModel` pour effectuer des prédictions sur la base de test à l'aide `trainer.predict`. Les labels prédits vous paraisses-t-il corrects ?  "
   ]
  },
  {
   "cell_type": "code",
   "execution_count": 11,
   "id": "3ca453ee-1f39-4512-8bcd-c9044d5be930",
   "metadata": {},
   "outputs": [
    {
     "ename": "NotImplementedError",
     "evalue": "",
     "output_type": "error",
     "traceback": [
      "\u001b[0;31m---------------------------------------------------------------------------\u001b[0m",
      "\u001b[0;31mNotImplementedError\u001b[0m                       Traceback (most recent call last)",
      "Cell \u001b[0;32mIn[11], line 1\u001b[0m\n\u001b[0;32m----> 1\u001b[0m \u001b[39mraise\u001b[39;00m \u001b[39mNotImplementedError\u001b[39;00m\n",
      "\u001b[0;31mNotImplementedError\u001b[0m: "
     ]
    }
   ],
   "source": [
    "raise NotImplementedError"
   ]
  },
  {
   "cell_type": "code",
   "execution_count": 12,
   "id": "9fb46907-8c85-4ec5-a587-999da627c15e",
   "metadata": {},
   "outputs": [
    {
     "ename": "NotImplementedError",
     "evalue": "",
     "output_type": "error",
     "traceback": [
      "\u001b[0;31m---------------------------------------------------------------------------\u001b[0m",
      "\u001b[0;31mNotImplementedError\u001b[0m                       Traceback (most recent call last)",
      "Cell \u001b[0;32mIn[12], line 1\u001b[0m\n\u001b[0;32m----> 1\u001b[0m \u001b[39mraise\u001b[39;00m \u001b[39mNotImplementedError\u001b[39;00m\n",
      "\u001b[0;31mNotImplementedError\u001b[0m: "
     ]
    }
   ],
   "source": [
    "raise NotImplementedError"
   ]
  },
  {
   "cell_type": "code",
   "execution_count": 130,
   "id": "ab68dc53-3103-4445-81aa-0f02b8d65782",
   "metadata": {},
   "outputs": [],
   "source": [
    "# timm.list_models()"
   ]
  },
  {
   "cell_type": "code",
   "execution_count": 13,
   "id": "2ea947d7-5afb-47ae-b15d-45efda6dec3e",
   "metadata": {},
   "outputs": [
    {
     "ename": "NotImplementedError",
     "evalue": "",
     "output_type": "error",
     "traceback": [
      "\u001b[0;31m---------------------------------------------------------------------------\u001b[0m",
      "\u001b[0;31mNotImplementedError\u001b[0m                       Traceback (most recent call last)",
      "Cell \u001b[0;32mIn[13], line 1\u001b[0m\n\u001b[0;32m----> 1\u001b[0m \u001b[39mraise\u001b[39;00m \u001b[39mNotImplementedError\u001b[39;00m\n",
      "\u001b[0;31mNotImplementedError\u001b[0m: "
     ]
    }
   ],
   "source": [
    "raise NotImplementedError"
   ]
  },
  {
   "cell_type": "code",
   "execution_count": null,
   "id": "0af44677",
   "metadata": {},
   "outputs": [],
   "source": []
  }
 ],
 "metadata": {
  "kernelspec": {
   "display_name": "base",
   "language": "python",
   "name": "python3"
  },
  "language_info": {
   "codemirror_mode": {
    "name": "ipython",
    "version": 3
   },
   "file_extension": ".py",
   "mimetype": "text/x-python",
   "name": "python",
   "nbconvert_exporter": "python",
   "pygments_lexer": "ipython3",
   "version": "3.10.9"
  },
  "vscode": {
   "interpreter": {
    "hash": "68cf61557e263bec9019080c581b9b4b81b2f3f5f1ea5e6e763bbf58775ffdde"
   }
  }
 },
 "nbformat": 4,
 "nbformat_minor": 5
}
